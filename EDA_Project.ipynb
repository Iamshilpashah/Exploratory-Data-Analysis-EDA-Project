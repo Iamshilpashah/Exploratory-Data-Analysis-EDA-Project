{
  "nbformat": 4,
  "nbformat_minor": 0,
  "metadata": {
    "colab": {
      "private_outputs": true,
      "provenance": [],
      "collapsed_sections": [
        "gIfDvo9L0UH2"
      ]
    },
    "kernelspec": {
      "name": "python3",
      "display_name": "Python 3"
    },
    "language_info": {
      "name": "python"
    }
  },
  "cells": [
    {
      "cell_type": "markdown",
      "source": [
        "# **Project Name**    -    AIRBNB NYC 2019 BOOKING DATA ANALYSIS\n",
        "\n"
      ],
      "metadata": {
        "id": "vncDsAP0Gaoa"
      }
    },
    {
      "cell_type": "markdown",
      "source": [
        "##### **Project Type**    - EDA\n",
        "##### **Contribution**    - Individual"
      ],
      "metadata": {
        "id": "beRrZCGUAJYm"
      }
    },
    {
      "cell_type": "markdown",
      "source": [
        "# **Project Summary -**"
      ],
      "metadata": {
        "id": "FJNUwmbgGyua"
      }
    },
    {
      "cell_type": "markdown",
      "source": [
        "The project centers around the exploratory data analysis (EDA) of the Airbnb dataset for New York City (NYC), which provides insights into Airbnb listings in the city, including their pricing, location, availability, and other key attributes. The goal of this project is to uncover patterns, trends, and relationships within the data, and to prepare it for potential modeling or further analysis. The analysis focuses on data wrangling, visualizations, and extracting meaningful insights from the dataset, ultimately aimed at better understanding the dynamics of Airbnb in NYC.\n",
        "\n",
        "It includes various columns that contain information such as the listing’s price, availability, host details, neighborhood, number of reviews, location coordinates, room type, and more. To begin, a thorough examination of the dataset was carried out to understand its structure and assess its quality. The dataset contains both categorical and numerical data, which requires different handling techniques in order to extract meaningful insights.\n",
        "\n",
        "This project is devided into five major segments which includes:\n",
        "\n",
        "1. Knowing The Data\n",
        "\n",
        "2. Understanding The Variables Present in Data\n",
        "\n",
        "3. Data Wrangling\n",
        "\n",
        "4. Data Vizualization, Storytelling & Experimenting with charts\n",
        "\n",
        "5. Solution to Business Objective\n",
        "\n",
        "\n",
        "**Knowing The Data and Understanding The Variable** --\n",
        "\n",
        "To work with any dataset and extracting insights from it, the very first step is to understand the dataset. It includes Mounting the drive and reading the data. Secondly we need to understand the variables or columns present in the dataset or type of data present in it.\n",
        "\n",
        "**Data Wrangling** --  \n",
        "One of the first steps in any EDA project is preparing the data for analysis.Further, it was essential to convert some variables to appropriate data types, such as ensuring that date columns were in datetime format and numerical columns were in integer or float formats.\n",
        "\n",
        "\n",
        "\n",
        "**Data Exploration and Visualization**  --\n",
        "\n",
        "A series of visualizations were created using popular libraries like Matplotlib and Seaborn to reveal patterns in the data. This Project includes 15 visualisation charts which are of different types such as Bar chart, Histograms, Box plots, Pie chart, Line plot, Heatmap, Matrix Correlation Heatmap, Scatter plot, Pair plot etc. These all 15 charts shows different kind of visualisation and relation between variable. All charts are different from each other.\n",
        "\n",
        "\n",
        "**Room Types and Pricing** -- A comparison of different room types (e.g., entire home/apt, private room, shared room) and their respective prices revealed some interesting trends. Entire apartments and homes were generally more expensive than private and shared rooms, which is consistent with common expectations.\n",
        "\n",
        "**Location Analysis** -- The geographical distribution of Airbnb listings across NYC was another area of interest. A scatter plot or heatmap was used to map the locations of listings based on latitude and longitude, revealing that the majority of listings were concentrated in Manhattan, Brooklyn, and Queens. This geographic distribution underscores the impact of location on price and demand, with more popular tourist areas commanding higher prices.\n",
        "\n",
        "**Geographic Distribution** -- A key aspect of the analysis was examining the geographic distribution of Airbnb listings across NYC. Using a scatter plot or heatmap, the locations of listings were visualized based on latitude and longitude. It was evident that Manhattan, Brooklyn, and Queens had the highest concentration of listings. This geographical clustering correlates with areas that are more popular among tourists and are therefore in higher demand, resulting in higher prices.\n",
        "\n",
        "**Availability Trends** -- The availability of listings was analyzed over time to explore any seasonal trends. A time-series plot revealed a clear seasonal pattern, with availability peaking during the summer months and declining during the winter. This trend suggests that hosts are more likely to list their properties during the tourist-heavy summer season, while availability drops during the colder months when tourism generally slows down.\n",
        "\n",
        "**Popularity and Reviews** -- The relationship between the number of reviews and the price of listings was explored. The analysis shows that listings with more reviews were typically more expensive, suggesting that higher-rated or more popular listings attract higher prices. This relationship likely indicates that positive reviews drive demand, leading to higher pricing.\n",
        "\n"
      ],
      "metadata": {
        "id": "F6v_1wHtG2nS"
      }
    },
    {
      "cell_type": "markdown",
      "source": [
        "# **GitHub Link -**"
      ],
      "metadata": {
        "id": "w6K7xa23Elo4"
      }
    },
    {
      "cell_type": "markdown",
      "source": [
        "https://github.com/Iamshilpashah"
      ],
      "metadata": {
        "id": "h1o69JH3Eqqn"
      }
    },
    {
      "cell_type": "markdown",
      "source": [
        "# **Problem Statement**\n"
      ],
      "metadata": {
        "id": "yQaldy8SH6Dl"
      }
    },
    {
      "cell_type": "markdown",
      "source": [
        "The objective of this analysis is to explore and gain insights into the factors influencing Airbnb listings in New York City. Specifically, we aim to understand the relationships between different variables, such as price, room type, neighborhood group, availability, and number of reviews. By analyzing these factors, the goal is to identify patterns, trends, and correlations that can provide actionable insights. Key questions to address include:\n",
        "\n",
        "\n",
        "*   How do different room types (e.g., Entire Home, Private Room, Shared Room)\n",
        "affect the price of a listing?\n",
        "*   What is the impact of location (neighborhood group and neighborhood) on pricing and availability?\n",
        "\n",
        "*   How do reviews and host activity (e.g., number of listings a host has) influence the success of a listing (price, reviews, and availability)?\n",
        "*   Are there any seasonal or temporal trends in pricing or reviews?\n",
        "\n",
        "\n"
      ],
      "metadata": {
        "id": "DpeJGUA3kjGy"
      }
    },
    {
      "cell_type": "markdown",
      "source": [
        "#### **Define Your Business Objective?**"
      ],
      "metadata": {
        "id": "PH-0ReGfmX4f"
      }
    },
    {
      "cell_type": "markdown",
      "source": [
        "The main business objective of this project is to analyze and extract actionable insights from the Airbnb listings in New York City to help stakeholders (including Airbnb hosts, property managers, investors, and even Airbnb itself) make informed decisions that can enhance performance, optimize pricing strategies, and improve user experience."
      ],
      "metadata": {
        "id": "PhDvGCAqmjP1"
      }
    },
    {
      "cell_type": "markdown",
      "source": [
        "# **General Guidelines** : -  "
      ],
      "metadata": {
        "id": "mDgbUHAGgjLW"
      }
    },
    {
      "cell_type": "markdown",
      "source": [
        "1.   Well-structured, formatted, and commented code is required.\n",
        "2.   Exception Handling, Production Grade Code & Deployment Ready Code will be a plus. Those students will be awarded some additional credits.\n",
        "     \n",
        "     The additional credits will have advantages over other students during Star Student selection.\n",
        "       \n",
        "             [ Note: - Deployment Ready Code is defined as, the whole .ipynb notebook should be executable in one go\n",
        "                       without a single error logged. ]\n",
        "\n",
        "3.   Each and every logic should have proper comments.\n",
        "4. You may add as many number of charts you want. Make Sure for each and every chart the following format should be answered.\n",
        "        \n",
        "\n",
        "```\n",
        "# Chart visualization code\n",
        "```\n",
        "            \n",
        "\n",
        "*   Why did you pick the specific chart?\n",
        "*   What is/are the insight(s) found from the chart?\n",
        "* Will the gained insights help creating a positive business impact?\n",
        "Are there any insights that lead to negative growth? Justify with specific reason.\n",
        "\n",
        "5. You have to create at least 20 logical & meaningful charts having important insights.\n",
        "\n",
        "\n",
        "[ Hints : - Do the Vizualization in  a structured way while following \"UBM\" Rule.\n",
        "\n",
        "U - Univariate Analysis,\n",
        "\n",
        "B - Bivariate Analysis (Numerical - Categorical, Numerical - Numerical, Categorical - Categorical)\n",
        "\n",
        "M - Multivariate Analysis\n",
        " ]\n",
        "\n",
        "\n",
        "\n"
      ],
      "metadata": {
        "id": "ZrxVaUj-hHfC"
      }
    },
    {
      "cell_type": "markdown",
      "source": [
        "# ***Let's Begin !***"
      ],
      "metadata": {
        "id": "O_i_v8NEhb9l"
      }
    },
    {
      "cell_type": "markdown",
      "source": [
        "Let's dive deeper into the AIRBNB NYC 2019 Dataset and gain insights."
      ],
      "metadata": {
        "id": "AKNocIAZRm-L"
      }
    },
    {
      "cell_type": "markdown",
      "source": [
        "## ***1. Know Your Data***"
      ],
      "metadata": {
        "id": "HhfV-JJviCcP"
      }
    },
    {
      "cell_type": "markdown",
      "source": [
        "### Import Libraries"
      ],
      "metadata": {
        "id": "Y3lxredqlCYt"
      }
    },
    {
      "cell_type": "code",
      "source": [
        "# Import Libraries\n",
        "\n",
        "import numpy as np\n",
        "import pandas as pd\n",
        "import matplotlib.pyplot as plt\n",
        "import seaborn as sns\n",
        "import re\n"
      ],
      "metadata": {
        "id": "M8Vqi-pPk-HR"
      },
      "execution_count": null,
      "outputs": []
    },
    {
      "cell_type": "markdown",
      "source": [
        "### Dataset Loading"
      ],
      "metadata": {
        "id": "3RnN4peoiCZX"
      }
    },
    {
      "cell_type": "code",
      "source": [
        "# Mounting drive\n",
        "from google.colab import drive\n",
        "drive.mount('/content/drive')"
      ],
      "metadata": {
        "id": "4CkvbW_SlZ_R"
      },
      "execution_count": null,
      "outputs": []
    },
    {
      "cell_type": "code",
      "source": [
        "# Reading dataset\n",
        "airbnb_df = pd.read_csv(\"/content/drive/MyDrive/Datasets/Airbnb NYC 2019.csv\")\n"
      ],
      "metadata": {
        "id": "NuqQriUXSubU"
      },
      "execution_count": null,
      "outputs": []
    },
    {
      "cell_type": "markdown",
      "source": [
        "### Dataset First View"
      ],
      "metadata": {
        "id": "x71ZqKXriCWQ"
      }
    },
    {
      "cell_type": "code",
      "source": [
        "# Dataset First Look\n",
        "airbnb_df"
      ],
      "metadata": {
        "id": "LWNFOSvLl09H"
      },
      "execution_count": null,
      "outputs": []
    },
    {
      "cell_type": "markdown",
      "source": [
        "### Dataset Rows & Columns count"
      ],
      "metadata": {
        "id": "7hBIi_osiCS2"
      }
    },
    {
      "cell_type": "code",
      "source": [
        "# Dataset Rows & Columns count\n",
        "airbnb_df.shape"
      ],
      "metadata": {
        "id": "Kllu7SJgmLij"
      },
      "execution_count": null,
      "outputs": []
    },
    {
      "cell_type": "code",
      "source": [
        "# Fetching columns\n",
        "airbnb_df.columns"
      ],
      "metadata": {
        "id": "-uA1VYe8VKWx"
      },
      "execution_count": null,
      "outputs": []
    },
    {
      "cell_type": "markdown",
      "source": [
        "### Dataset Information"
      ],
      "metadata": {
        "id": "JlHwYmJAmNHm"
      }
    },
    {
      "cell_type": "code",
      "source": [
        "# Dataset Info\n",
        "airbnb_df.info()"
      ],
      "metadata": {
        "id": "e9hRXRi6meOf"
      },
      "execution_count": null,
      "outputs": []
    },
    {
      "cell_type": "markdown",
      "source": [
        "#### Duplicate Values"
      ],
      "metadata": {
        "id": "35m5QtbWiB9F"
      }
    },
    {
      "cell_type": "code",
      "source": [
        "# Dataset Duplicate Value Count\n",
        "airbnb_df.duplicated().sum()"
      ],
      "metadata": {
        "id": "1sLdpKYkmox0"
      },
      "execution_count": null,
      "outputs": []
    },
    {
      "cell_type": "markdown",
      "source": [
        "#### Missing Values/Null Values"
      ],
      "metadata": {
        "id": "PoPl-ycgm1ru"
      }
    },
    {
      "cell_type": "code",
      "source": [
        "# Missing Values/Null Values Count\n",
        "airbnb_df.isnull().sum()"
      ],
      "metadata": {
        "id": "GgHWkxvamxVg"
      },
      "execution_count": null,
      "outputs": []
    },
    {
      "cell_type": "code",
      "source": [
        "# Visualizing the missing values\n",
        "\n",
        "# Installing missingno first\n",
        "!pip install missingno\n",
        "\n",
        "# Importing the library\n",
        "import missingno as msno\n",
        "\n",
        "# set the size of plot\n",
        "plt.figure(figsize = (1,1))\n",
        "\n",
        "# Generating the heatmap\n",
        "msno.heatmap(airbnb_df)\n",
        "\n",
        "# Display the plot\n",
        "plt.show()"
      ],
      "metadata": {
        "id": "O4W0-SV9Yxf1"
      },
      "execution_count": null,
      "outputs": []
    },
    {
      "cell_type": "markdown",
      "source": [
        "### What did you know about your dataset?"
      ],
      "metadata": {
        "id": "H0kj-8xxnORC"
      }
    },
    {
      "cell_type": "markdown",
      "source": [
        "The dataset contains 48,895 rows and 16 columns, representing data on Airbnb listings in New York City. This data includes information about listings, host details, reviews, pricing, and availability. The dataset can help analyze various aspects of Airbnb's performance in the NYC market, such as pricing patterns, host activity, and the popularity of different neighborhoods.\n",
        "\n",
        "Data present in different columns are of three types they are as follows:\n",
        "\n",
        "Numeric: id, host_id, latitude, longitude, price, minimum_nights, number_of_reviews, reviews_per_month, calculated_host_listings_count, availability_365.\n",
        "Categorical: name, host_name, neighbourhood_group, neighbourhood, room_type.\n",
        "Datetime: last_review.\n",
        "\n",
        "**Missing Data**:\n",
        "The Dataset consist of null values in some columns.They are as follows-\n",
        "\n",
        "\"name\" column contains 16 null values, \"host_name\" contains 21 null values, last_review\" contains 10052 null values, \"review_per_month\" contains 10052 null values, \"days_since_last_review\" contains 10052 and \"month\" also contains 10052 null values.\n",
        "\n",
        "**Data Quality:**\n",
        "The dataset appears to be fairly comprehensive but could have inconsistencies, such as outliers in price (e.g., very high prices for luxury listings) or missing data in some review-related columns.\n",
        "\n",
        "It might be necessary to handle outliers in columns like price and minimum_nights to ensure accurate analysis."
      ],
      "metadata": {
        "id": "gfoNAAC-nUe_"
      }
    },
    {
      "cell_type": "markdown",
      "source": [
        "## ***2. Understanding Your Variables***"
      ],
      "metadata": {
        "id": "nA9Y7ga8ng1Z"
      }
    },
    {
      "cell_type": "code",
      "source": [
        "# Dataset Columns\n",
        "cols = list(airbnb_df.columns)\n",
        "cols"
      ],
      "metadata": {
        "id": "j7xfkqrt5Ag5"
      },
      "execution_count": null,
      "outputs": []
    },
    {
      "cell_type": "code",
      "source": [
        "# Dataset Describe\n",
        "airbnb_df.describe()"
      ],
      "metadata": {
        "id": "DnOaZdaE5Q5t"
      },
      "execution_count": null,
      "outputs": []
    },
    {
      "cell_type": "markdown",
      "source": [
        "### Variables Description"
      ],
      "metadata": {
        "id": "PBTbrJXOngz2"
      }
    },
    {
      "cell_type": "markdown",
      "source": [
        "The dataset has 16 variables. variables present in the AIRBNB NYC dataset are as follows:\n",
        "\n",
        "**'id'**: Unique identifier for each listing (numeric).\n",
        "\n",
        "**'name'**: Name or title of the listing (string).\n",
        "\n",
        "**'host_id'**: Unique identifier for the host (numeric).\n",
        "\n",
        "'**host_name'**: Name of the host (string).\n",
        "\n",
        "**'neighbourhood_group'**: The larger geographical area in NYC (e.g., Manhattan, Brooklyn) (categorical).\n",
        "\n",
        "**'neighbourhood'**: Specific neighborhood within NYC (categorical).\n",
        "\n",
        "**'latitude'**: Latitude coordinate of the listing (numeric).\n",
        "\n",
        "**'longitude'**: Longitude coordinate of the listing (numeric).\n",
        "\n",
        "**'room_type'**: Type of room being rented (e.g., Entire Home, Private Room, Shared Room) (categorical).\n",
        "\n",
        "**'price'**: Price per night for the listing (numeric).\n",
        "\n",
        "**'minimum_nights'**: Minimum number of nights required to book the listing (numeric).\n",
        "\n",
        "**'number_of_reviews'**: Total number of reviews received by the listing (numeric).\n",
        "\n",
        "**'last_review'**: Date of the last review for the listing (datetime).\n",
        "\n",
        "**'reviews_per_month'**: Average number of reviews per month (numeric).\n",
        "\n",
        "**'calculated_host_listings_count'**: Number of listings a host has (numeric).\n",
        "\n",
        "**'availability_365'**: Number of days the listing is available in a year (numeric)."
      ],
      "metadata": {
        "id": "aJV4KIxSnxay"
      }
    },
    {
      "cell_type": "markdown",
      "source": [
        "### Check Unique Values for each variable."
      ],
      "metadata": {
        "id": "u3PMJOP6ngxN"
      }
    },
    {
      "cell_type": "code",
      "source": [
        "# Check Unique Values for each variable.\n",
        "\n",
        "airbnb_df.nunique(axis = 'columns')"
      ],
      "metadata": {
        "id": "zms12Yq5n-jE"
      },
      "execution_count": null,
      "outputs": []
    },
    {
      "cell_type": "markdown",
      "source": [
        "## 3. ***Data Wrangling***"
      ],
      "metadata": {
        "id": "dauF4eBmngu3"
      }
    },
    {
      "cell_type": "markdown",
      "source": [
        "### Data Wrangling Code"
      ],
      "metadata": {
        "id": "bKJF3rekwFvQ"
      }
    },
    {
      "cell_type": "code",
      "source": [
        "# Write your code to make your dataset analysis ready.\n",
        "\n",
        "# 1. Grouping the data\n",
        "df_grouped = airbnb_df.groupby('neighbourhood_group')\n",
        "#print(df_grouped.get_group(name))\n",
        "for name,group in df_grouped:\n",
        "  print(f\"Neighbourhood Groups : {name}\")\n",
        "  print(df_grouped.get_group(name))"
      ],
      "metadata": {
        "id": "wk-9a2fpoLcV"
      },
      "execution_count": null,
      "outputs": []
    },
    {
      "cell_type": "code",
      "source": [
        "# 2. Convert Data types\n",
        "#converting last_review to datetime format\n",
        "airbnb_df['last_review'] = pd.to_datetime(airbnb_df['last_review'], errors = 'coerce')\n",
        "\n",
        "#testing\n",
        "airbnb_df.dtypes"
      ],
      "metadata": {
        "id": "UJ1fFs5MovM4"
      },
      "execution_count": null,
      "outputs": []
    },
    {
      "cell_type": "code",
      "source": [
        "# 3. creating new columns \"is_expensive\", \"days_since_last_reviews\", \"price_per_night\", and \"is_host_superhost\"\n",
        "airbnb_df['is_expensive'] = airbnb_df['price'] > 300\n",
        "\n",
        "airbnb_df['days_since_last_reviews'] = (pd.to_datetime('today') - airbnb_df['last_review']).dt.days\n",
        "\n",
        "airbnb_df['price_per_night'] = airbnb_df['price'] / airbnb_df['minimum_nights']\n",
        "\n",
        "airbnb_df['is_host_superhost'] = airbnb_df['calculated_host_listings_count'] > 1\n",
        "\n",
        "print(airbnb_df[['is_expensive', 'days_since_last_reviews','price_per_night', 'is_host_superhost']].head())\n",
        "\n",
        "#testing columns\n",
        "print(\"Now all columns are:\")\n",
        "list(airbnb_df.columns)"
      ],
      "metadata": {
        "id": "RZGQsST0r8hO"
      },
      "execution_count": null,
      "outputs": []
    },
    {
      "cell_type": "code",
      "source": [
        "# 4. # Extract the length of the listing name\n",
        "airbnb_df['name_length'] = airbnb_df['name'].astype(str).apply(lambda x: len(x))\n",
        "\n",
        "# Check for any special characters in the name (e.g., underscores, numbers)\n",
        "airbnb_df['name_contains_special_char'] = airbnb_df['name'].astype(str).apply(lambda x: bool(re.search(r'[^a-zA-Z0-9\\s]', x)))\n",
        "\n",
        "# Check the first few rows\n",
        "print(airbnb_df[['name', 'name_length', 'name_contains_special_char']].head())"
      ],
      "metadata": {
        "id": "3wJpcsy0r_Bg"
      },
      "execution_count": null,
      "outputs": []
    },
    {
      "cell_type": "code",
      "source": [
        "# 5. Group by 'neighbourhood_group' and calculate the average price\n",
        "avg_price_neighbourhood = airbnb_df.groupby('neighbourhood_group')['price'].mean().reset_index()\n",
        "\n",
        "# Group by 'room_type' and get the average price per room type\n",
        "avg_price_room_type = airbnb_df.groupby('room_type')['price'].mean().reset_index()\n",
        "\n",
        "# Print the results\n",
        "print(avg_price_neighbourhood)\n",
        "print(avg_price_room_type)"
      ],
      "metadata": {
        "id": "o0lLRkNFsBJG"
      },
      "execution_count": null,
      "outputs": []
    },
    {
      "cell_type": "code",
      "source": [
        "#6. Is manhattan neighbourhood preffered more over other neighbourhood or not!\n",
        "\n",
        "# Filter the dataset for listing in Manhattan and other neighbourhoods\n",
        "manhattan_listings = airbnb_df[airbnb_df['neighbourhood_group'] == \"Manhattan\"]\n",
        "other_listings = airbnb_df[airbnb_df['neighbourhood_group'] != \"Manhattan\"]\n",
        "\n",
        "# Calculate average price or average number of reviews\n",
        "avg_price_manhattan = manhattan_listings['price'].mean()\n",
        "avg_price_other = other_listings['price'].mean()\n",
        "\n",
        "avg_reviews_manhattan = manhattan_listings['number_of_reviews'].mean()\n",
        "avg_reviews_other = other_listings['number_of_reviews'].mean()\n",
        "\n",
        "# Compare other metrics between Manhattan and other neighbourhoods\n",
        "if avg_price_manhattan > avg_price_other:\n",
        "  print(\"Other neighbourhoods are preffered over Manhattan.\")\n",
        "elif avg_price_manhattan < avg_price_other:\n",
        "  print(\"Manhattan is preffered over other neighbourhoods.\")\n",
        "else:\n",
        "  print(\"No significant prefrence is observed between Manhattan and other neighbourhood.\")"
      ],
      "metadata": {
        "id": "vl037sFlmhR2"
      },
      "execution_count": null,
      "outputs": []
    },
    {
      "cell_type": "code",
      "source": [
        "airbnb_df.shape"
      ],
      "metadata": {
        "id": "YAjNoBhSRJ8W"
      },
      "execution_count": null,
      "outputs": []
    },
    {
      "cell_type": "markdown",
      "source": [
        "### What all manipulations have you done and insights you found?"
      ],
      "metadata": {
        "id": "MSa1f5Uengrz"
      }
    },
    {
      "cell_type": "markdown",
      "source": [
        "I have performed 6 manipulations...\n",
        "\n",
        "\n",
        "1.   The first code I have written which groups the data by \"neighbourhood_group\".\n",
        "\n",
        "2.   The second code converts the data type of \"last_review\" column  into datetime format.\n",
        "\n",
        "3.   The third code creates four new columns such as \"is_expensive\", \"days_since_last_reviews\",\"price_per_night\", and \"is_host_superhost\".\n",
        "\n",
        "4.   The fourth code Extract the length of the listing name and Check for any special characters in the name (e.g., underscores, numbers) present or not.\n",
        "\n",
        "\n",
        "5.   And the fifth code provide two insights. First insight given is average price by neighbourhood, and the second insight is average price by room type.\n",
        "\n",
        "6.   The last code analysis compares the average price and number of reviews for listings in Manhattan versus other neighborhoods. Depending on whether Manhattan has higher or lower average prices and reviews, it determines whether Manhattan is more preferred compared to other neighborhoods, or if there is no significant preference.In we found Manhattan Neighbourhood not much preffered.\n",
        "\n",
        "\n",
        "\n",
        "\n"
      ],
      "metadata": {
        "id": "LbyXE7I1olp8"
      }
    },
    {
      "cell_type": "markdown",
      "source": [
        "## ***4. Data Vizualization, Storytelling & Experimenting with charts : Understand the relationships between variables***"
      ],
      "metadata": {
        "id": "GF8Ens_Soomf"
      }
    },
    {
      "cell_type": "markdown",
      "source": [
        "#### Chart - 1"
      ],
      "metadata": {
        "id": "0wOQAZs5pc--"
      }
    },
    {
      "cell_type": "code",
      "source": [
        "# Chart - 1 visualization code\n",
        "avg_price_by_room_type = airbnb_df.groupby('room_type')['price'].mean()\n",
        "plt.figure(figsize = (10,6))\n",
        "avg_price_by_room_type.plot(kind = 'bar', color = 'blue')\n",
        "plt.xlabel('Room Type')\n",
        "plt.ylabel('Average Price')\n",
        "plt.title('Average Price By Room Type')\n",
        "plt.show()"
      ],
      "metadata": {
        "id": "7v_ESjsspbW7"
      },
      "execution_count": null,
      "outputs": []
    },
    {
      "cell_type": "markdown",
      "source": [
        "##### 1. Why did you pick the specific chart?"
      ],
      "metadata": {
        "id": "K5QZ13OEpz2H"
      }
    },
    {
      "cell_type": "markdown",
      "source": [
        "The picked chart is Bar chart which best suits for displaying Average Price by Room Type in this case, because it effectively presents the categorical comparisons."
      ],
      "metadata": {
        "id": "XESiWehPqBRc"
      }
    },
    {
      "cell_type": "markdown",
      "source": [
        "##### 2. What is/are the insight(s) found from the chart?"
      ],
      "metadata": {
        "id": "lQ7QKXXCp7Bj"
      }
    },
    {
      "cell_type": "markdown",
      "source": [
        "The room type is categorized in three types, they are as \"Entire home/apt\", \"Private room\" and \"Shared room\". Here each bar represents the Average price for each room type such as the average price for \"Entire home/apt\" is above 200, average price for \"Private room\" is between 75 to 100 and for \"Shared room\" is below 75.\n",
        "\n",
        "Average price of \"Entire home/apt\" is higher/costly among all three types of room."
      ],
      "metadata": {
        "id": "C_j1G7yiqdRP"
      }
    },
    {
      "cell_type": "markdown",
      "source": [
        "##### 3. Will the gained insights help creating a positive business impact?\n",
        "Are there any insights that lead to negative growth? Justify with specific reason."
      ],
      "metadata": {
        "id": "448CDAPjqfQr"
      }
    },
    {
      "cell_type": "markdown",
      "source": [
        "Yes, the insights gained from analyzing the average price by room type can have a significant positive impact on the business, particularly in the context of an Airbnb-like platform or property management business.\n",
        "\n",
        "There is not a insight that can lead to negative growth because, business can adjust their pricing, marketing, and inventory strategies, which leads to a more informed decision-making process."
      ],
      "metadata": {
        "id": "3cspy4FjqxJW"
      }
    },
    {
      "cell_type": "markdown",
      "source": [
        "#### Chart - 2"
      ],
      "metadata": {
        "id": "KSlN3yHqYklG"
      }
    },
    {
      "cell_type": "code",
      "source": [
        "# Chart - 2 visualization code\n",
        "top_hosts = airbnb_df.groupby(['host_name', 'name'])['reviews_per_month'].mean().reset_index().sort_values(by=['reviews_per_month'], ascending=False).head(10)\n",
        "plt.figure(figsize = (10,6))\n",
        "sns.barplot(data = top_hosts, y = \"host_name\", x = \"reviews_per_month\", hue = \"name\", dodge = False)\n",
        "plt.xlabel(\"Reviews per month\")\n",
        "plt.ylabel(\"Host name\")\n",
        "plt.title(\"Top 10 Hosts and Listings by Reviews per Month\")\n",
        "plt.legend(title = \"Listing Name\", bbox_to_anchor = (1.05, 1), loc = \"upper left\")\n",
        "plt.show()"
      ],
      "metadata": {
        "id": "R4YgtaqtYklH"
      },
      "execution_count": null,
      "outputs": []
    },
    {
      "cell_type": "markdown",
      "source": [
        "##### 1. Why did you pick the specific chart?"
      ],
      "metadata": {
        "id": "t6dVpIINYklI"
      }
    },
    {
      "cell_type": "markdown",
      "source": [
        "The barplot was chosen because it allows for a clear comparison of reviews per month for the top 10 hosts, with a visual distinction for different listings (via the hue parameter). It efficiently shows the relationship between the host name, their listings, and the average reviews per month. The barplot is ideal for ranking and comparing categories (hosts) and their associated values (reviews per month), especially when there's a need to group or distinguish multiple variables (listings)."
      ],
      "metadata": {
        "id": "5aaW0BYyYklI"
      }
    },
    {
      "cell_type": "markdown",
      "source": [
        "##### 2. What is/are the insight(s) found from the chart?"
      ],
      "metadata": {
        "id": "ijmpgYnKYklI"
      }
    },
    {
      "cell_type": "markdown",
      "source": [
        "The chart highlights the top 10 hosts with the highest average reviews per month, indicating their popularity and engagement with guests.\n",
        "\n",
        "It reveals which specific listings under these hosts attract more reviews, showing that some hosts might have multiple high-performing listings.\n",
        "\n"
      ],
      "metadata": {
        "id": "PSx9atu2YklI"
      }
    },
    {
      "cell_type": "markdown",
      "source": [
        "##### 3. Will the gained insights help creating a positive business impact?\n",
        "Are there any insights that lead to negative growth? Justify with specific reason."
      ],
      "metadata": {
        "id": "-JiQyfWJYklI"
      }
    },
    {
      "cell_type": "markdown",
      "source": [
        "Yes, the insights can positively impact the business by, The business can leverage successful hosts for partnerships, promotions, or ambassador programs to enhance platform visibility and trust.\n",
        "\n",
        "Yes, there is an insight that can be negtive for business growth that is if a small number of hosts are driving most reviews, the business might become too dependent on these hosts for growth. This could lead to issues if any of these hosts face reputation damage or leave the platform."
      ],
      "metadata": {
        "id": "BcBbebzrYklV"
      }
    },
    {
      "cell_type": "markdown",
      "source": [
        "#### Chart - 3"
      ],
      "metadata": {
        "id": "EM7whBJCYoAo"
      }
    },
    {
      "cell_type": "code",
      "source": [
        "# Chart - 3 visualization code\n",
        "room_types = airbnb_df['room_type'].unique()\n",
        "avg_reviews_per_month = airbnb_df.groupby(\"room_type\")[\"reviews_per_month\"].mean()\n",
        "\n",
        "plt.figure(figsize = (10,6))\n",
        "plt.bar(room_types, avg_reviews_per_month, color = 'Turquoise')\n",
        "plt.xlabel(\"Room Type\")\n",
        "plt.ylabel(\"Average Reviews per Month\")\n",
        "plt.title(\"Average Reviews per Month by Room Type\")\n",
        "plt.xticks(rotation = 45)\n",
        "plt.show()"
      ],
      "metadata": {
        "id": "t6GMdE67YoAp"
      },
      "execution_count": null,
      "outputs": []
    },
    {
      "cell_type": "markdown",
      "source": [
        "##### 1. Why did you pick the specific chart?"
      ],
      "metadata": {
        "id": "fge-S5ZAYoAp"
      }
    },
    {
      "cell_type": "markdown",
      "source": [
        "A bar chart was chosen because it is an effective way to compare the average reviews per month across different room types. The categorical data (room types) on the x-axis allows for easy comparison with the numerical data (average reviews per month) on the y-axis. The chart provides clarity in visualizing which room types are receiving the most engagement (reviews), and the bars make it easy to identify Average reviews per month by type of room."
      ],
      "metadata": {
        "id": "5dBItgRVYoAp"
      }
    },
    {
      "cell_type": "markdown",
      "source": [
        "##### 2. What is/are the insight(s) found from the chart?"
      ],
      "metadata": {
        "id": "85gYPyotYoAp"
      }
    },
    {
      "cell_type": "markdown",
      "source": [
        "The chart shows how different room types (e.g., entire home, private room, shared room) compare in terms of average reviews per month. This highlights the level of guest engagement for each room type.\n",
        "\n",
        "Certain room types may have significantly higher reviews per month, indicating that guests are more likely to leave reviews for those options, potentially due to a better experience or higher demand."
      ],
      "metadata": {
        "id": "4jstXR6OYoAp"
      }
    },
    {
      "cell_type": "markdown",
      "source": [
        "##### 3. Will the gained insights help creating a positive business impact?\n",
        "Are there any insights that lead to negative growth? Justify with specific reason."
      ],
      "metadata": {
        "id": "RoGjAbkUYoAp"
      }
    },
    {
      "cell_type": "markdown",
      "source": [
        "Yes, the gained insights help creating a positive business impact because, the business can focus on promoting room types that receive higher reviews, indicating strong demand and guest satisfaction. This could lead to better-targeted marketing strategies.And by understanding which room types get more reviews, the business can identify characteristics that enhance guest experience, leading to better customer retention and higher ratings in future.\n",
        "\n",
        "Yes, there is a insight that can lead to negative growth, if room types with fewer reviews are not meeting guest expectations, there could be bad in customer satisfaction over time, damaging the platform's image and reducing overall growth.So the business need to work on this issue to prevent from declining in future.\n",
        "\n",
        "\n"
      ],
      "metadata": {
        "id": "zfJ8IqMcYoAp"
      }
    },
    {
      "cell_type": "markdown",
      "source": [
        "#### Chart - 4"
      ],
      "metadata": {
        "id": "4Of9eVA-YrdM"
      }
    },
    {
      "cell_type": "code",
      "source": [
        "# Chart - 4 visualization code\n",
        "plt.figure(figsize = (10,6))\n",
        "sns.histplot(airbnb_df['price'], kde=True, color='blue', bins=30)\n",
        "plt.xlabel('Price')\n",
        "plt.ylabel('Freequency')\n",
        "plt.title('Price Distribution')\n",
        "plt.show()"
      ],
      "metadata": {
        "id": "irlUoxc8YrdO"
      },
      "execution_count": null,
      "outputs": []
    },
    {
      "cell_type": "markdown",
      "source": [
        "##### 1. Why did you pick the specific chart?"
      ],
      "metadata": {
        "id": "iky9q4vBYrdO"
      }
    },
    {
      "cell_type": "markdown",
      "source": [
        "A histogram with KDE (Kernel Density Estimate) was chosen because it provides a clear visualization of the distribution of prices in the dataset. The histogram shows the frequency of price ranges, while the KDE adds a smooth curve to highlight the overall distribution pattern. This combination helps to understand the central tendency, spread, and skewness of the price data effectively."
      ],
      "metadata": {
        "id": "aJRCwT6DYrdO"
      }
    },
    {
      "cell_type": "markdown",
      "source": [
        "##### 2. What is/are the insight(s) found from the chart?"
      ],
      "metadata": {
        "id": "F6T5p64dYrdO"
      }
    },
    {
      "cell_type": "markdown",
      "source": [
        "The chart shows the frequency of different price ranges, helping to understand how prices are distributed across the dataset.\n",
        "\n",
        "If the distribution is skewed to the right (i.e., there are many lower-priced listings and fewer higher-priced ones), this could indicate that most listings are priced lower, with a small number of higher-priced ones.\n",
        "\n",
        "The histogram's peaks and valleys show where most listings fall in terms of pricing, allowing the business to identify common price ranges for properties."
      ],
      "metadata": {
        "id": "Xx8WAJvtYrdO"
      }
    },
    {
      "cell_type": "markdown",
      "source": [
        "##### 3. Will the gained insights help creating a positive business impact?\n",
        "Are there any insights that lead to negative growth? Justify with specific reason."
      ],
      "metadata": {
        "id": "y-Ehk30pYrdP"
      }
    },
    {
      "cell_type": "markdown",
      "source": [
        "Yes, the insights can help Knowing the most common price ranges helps the business tailor its offerings to cater to the majority of customers while adjusting for demand in higher or lower-priced categories.\n",
        "\n",
        "If a significant portion of listings is clustered around a certain price range, businesses that price too far above or below this range may face lower demand. Overpricing could lead to low occupancy, while underpricing might result in missed revenue opportunities."
      ],
      "metadata": {
        "id": "jLNxxz7MYrdP"
      }
    },
    {
      "cell_type": "markdown",
      "source": [
        "#### Chart - 5"
      ],
      "metadata": {
        "id": "bamQiAODYuh1"
      }
    },
    {
      "cell_type": "code",
      "source": [
        "# Chart - 5 visualization code\n",
        "plt.figure(figsize = (10,6))\n",
        "sns.boxplot(airbnb_df, x= 'room_type', y = 'price', color = 'grey')\n",
        "plt.xlabel(\"Room Type\")\n",
        "plt.ylabel(\"Price\")\n",
        "plt.title(\"Price Distribution by Room Type\")\n",
        "plt.show()"
      ],
      "metadata": {
        "id": "TIJwrbroYuh3"
      },
      "execution_count": null,
      "outputs": []
    },
    {
      "cell_type": "markdown",
      "source": [
        "##### 1. Why did you pick the specific chart?"
      ],
      "metadata": {
        "id": "QHF8YVU7Yuh3"
      }
    },
    {
      "cell_type": "markdown",
      "source": [
        "A boxplot was chosen because it effectively displays the distribution of prices by room type, including key statistics like the median, interquartile range (IQR), and potential outliers. It provides a clear view of how prices vary within each room type, making it easier to compare distributions across categories."
      ],
      "metadata": {
        "id": "dcxuIMRPYuh3"
      }
    },
    {
      "cell_type": "markdown",
      "source": [
        "##### 2. What is/are the insight(s) found from the chart?"
      ],
      "metadata": {
        "id": "GwzvFGzlYuh3"
      }
    },
    {
      "cell_type": "markdown",
      "source": [
        "The boxplot reveals the range of prices for each room type, showing the variability within each category. For example, \"entire home\" might have a wide price range, while \"shared room\" may have a narrower spread.\n",
        "\n",
        "The median line within each box shows the central tendency of prices for each room type, indicating where most prices are concentrated.\n",
        "\n",
        "Any outliers (dots outside the whiskers) highlight listings with prices significantly different from most others, which could either indicate luxury properties or errors in pricing."
      ],
      "metadata": {
        "id": "uyqkiB8YYuh3"
      }
    },
    {
      "cell_type": "markdown",
      "source": [
        "##### 3. Will the gained insights help creating a positive business impact?\n",
        "Are there any insights that lead to negative growth? Justify with specific reason."
      ],
      "metadata": {
        "id": "qYpmQ266Yuh3"
      }
    },
    {
      "cell_type": "markdown",
      "source": [
        "Yes,gained insights help creating a positive business impact. The business can assess which room types have higher or lower price variability, guiding decisions on which types to focus on or promote based on demand and profitability.\n",
        "\n",
        "Yes, insights that lead to negative growth is outliers, especially in higher-priced rooms, could signal overpricing for certain properties. If these prices are not justified by the quality of the listing, they may result in low occupancy and negative customer feedback, damaging the platform’s reputation."
      ],
      "metadata": {
        "id": "_WtzZ_hCYuh4"
      }
    },
    {
      "cell_type": "markdown",
      "source": [
        "#### Chart - 6"
      ],
      "metadata": {
        "id": "OH-pJp9IphqM"
      }
    },
    {
      "cell_type": "code",
      "source": [
        "# Chart - 6 visualization code\n",
        "plt.figure(figsize = (25, 10))\n",
        "avg_price_neighbourhood = airbnb_df.groupby('neighbourhood')['price'].mean().sort_values(ascending = False)\n",
        "avg_price_neighbourhood = avg_price_neighbourhood.head(100)\n",
        "plt.bar(avg_price_neighbourhood.index, avg_price_neighbourhood.values, color = 'salmon')\n",
        "plt.title('Average Price by Neighbourhood')\n",
        "plt.xlabel('Neighbourhood')\n",
        "plt.ylabel(\"Average Price\")\n",
        "plt.xticks(rotation = 90, ha = 'right')\n",
        "plt.show()"
      ],
      "metadata": {
        "id": "kuRf4wtuphqN"
      },
      "execution_count": null,
      "outputs": []
    },
    {
      "cell_type": "markdown",
      "source": [
        "##### 1. Why did you pick the specific chart?"
      ],
      "metadata": {
        "id": "bbFf2-_FphqN"
      }
    },
    {
      "cell_type": "markdown",
      "source": [
        "A bar chart was chosen to display the average price by neighbourhood because it provides a clear and direct comparison of prices across different neighbourhoods. By selecting the top 100 neighbourhoods, the chart allows for easy identification of which areas are more expensive. The bar chart format also helps to visualize rankings effectively, making it easy to compare neighbourhoods side by side."
      ],
      "metadata": {
        "id": "loh7H2nzphqN"
      }
    },
    {
      "cell_type": "markdown",
      "source": [
        "##### 2. What is/are the insight(s) found from the chart?"
      ],
      "metadata": {
        "id": "_ouA3fa0phqN"
      }
    },
    {
      "cell_type": "markdown",
      "source": [
        "The chart highlights which neighbourhoods have the highest average prices for Airbnb listings, helping to identify areas that are more expensive.\n",
        "\n",
        " The top neighbourhoods with the highest average prices can be identified, which may indicate high-demand, premium locations or neighbourhoods.\n",
        "\n"
      ],
      "metadata": {
        "id": "VECbqPI7phqN"
      }
    },
    {
      "cell_type": "markdown",
      "source": [
        "##### 3. Will the gained insights help creating a positive business impact?\n",
        "Are there any insights that lead to negative growth? Justify with specific reason."
      ],
      "metadata": {
        "id": "Seke61FWphqN"
      }
    },
    {
      "cell_type": "markdown",
      "source": [
        "Yes, the gained insights help creating a positive business impact Knowing which neighbourhoods have higher prices can help tailor marketing campaigns to attract more customers to those areas, especially those willing to pay a premium for location.\n",
        "By understanding pricing trends in different neighbourhoods, the business can adjust pricing strategies to maximize revenue, such as offering discounts or promotions in less expensive areas to attract more guests.\n",
        "\n",
        "Yes, there is a insight that can affect the business negatively which is, if the average price in certain neighbourhoods is much higher than the market norm and is not justified by the property’s value, this could lead to lower occupancy rates. Customers may avoid these areas if they perceive the listings to be overpriced compared to similar offerings elsewhere.The pricing should be sustainable."
      ],
      "metadata": {
        "id": "DW4_bGpfphqN"
      }
    },
    {
      "cell_type": "markdown",
      "source": [
        "#### Chart - 7"
      ],
      "metadata": {
        "id": "PIIx-8_IphqN"
      }
    },
    {
      "cell_type": "code",
      "source": [
        "# Chart - 7 visualization code\n",
        "room_type_counts = airbnb_df['room_type'].value_counts()\n",
        "plt.figure(figsize = (12, 8))\n",
        "room_type_counts.plot.pie(colors = ['violet', 'pink', 'grey'])\n",
        "plt.title(\"Room Type Distribution\")\n",
        "plt.ylabel('')\n",
        "plt.show()"
      ],
      "metadata": {
        "id": "lqAIGUfyphqO"
      },
      "execution_count": null,
      "outputs": []
    },
    {
      "cell_type": "markdown",
      "source": [
        "##### 1. Why did you pick the specific chart?"
      ],
      "metadata": {
        "id": "t27r6nlMphqO"
      }
    },
    {
      "cell_type": "markdown",
      "source": [
        "The pie chart was chosen because it effectively visualizes the proportional distribution of different room types in the Airbnb dataset. Pie charts are ideal for showing relative sizes of categories as they highlight the share of each category (in this case, room types) within the total. The color scheme (violet, pink, and grey) also helps to differentiate the segments and make the chart more visually appealing, enhancing the viewer's ability to interpret the data."
      ],
      "metadata": {
        "id": "iv6ro40sphqO"
      }
    },
    {
      "cell_type": "markdown",
      "source": [
        "##### 2. What is/are the insight(s) found from the chart?"
      ],
      "metadata": {
        "id": "r2jJGEOYphqO"
      }
    },
    {
      "cell_type": "markdown",
      "source": [
        "The chart likely reveals the relative popularity of various room types available on Airbnb. Insights include identifying which room type dominates in terms of listings (for example, if most properties are \"Entire homes\" or \"Private rooms\"), and understanding how other room types like \"Shared rooms\" compare. If a single room type comprises a large share, it indicates that it is the most common listing on Airbnb. Conversely, a more even distribution might suggest a balanced variety of options available to guests."
      ],
      "metadata": {
        "id": "Po6ZPi4hphqO"
      }
    },
    {
      "cell_type": "markdown",
      "source": [
        "##### 3. Will the gained insights help creating a positive business impact?\n",
        "Are there any insights that lead to negative growth? Justify with specific reason."
      ],
      "metadata": {
        "id": "b0JNsNcRphqO"
      }
    },
    {
      "cell_type": "markdown",
      "source": [
        "Yes, the gained insight can help in understanding which room types are most common can guide hosts or Airbnb in adjusting pricing strategies, optimizing supply, and targeting customer preferences.\n",
        "\n",
        "Yes, the insight can lead to negative growth of business because if one room type (for example, \"Entire homes\") dominates the pie chart by a significant margin, this could indicate a lack of diversity in room offerings.\n",
        "Because relying too heavily on a single room type might limit the target customer base. If demand for that specific room type decreases due to market shifts, seasonality, or changing consumer preferences, it could hurt business. For instance, if the demand for \"Entire homes\" drops due to a rise in solo or budget travelers, Airbnb may lose out on a growing segment of the market. So\n",
        "insights could signal a need for more diverse room types, a better balance between luxury and budget options, and an awareness of changing consumer preferences to avoid stagnation or negative growth in the Airbnb business."
      ],
      "metadata": {
        "id": "xvSq8iUTphqO"
      }
    },
    {
      "cell_type": "markdown",
      "source": [
        "#### Chart - 8"
      ],
      "metadata": {
        "id": "BZR9WyysphqO"
      }
    },
    {
      "cell_type": "code",
      "source": [
        "# Chart - 8 visualization code\n",
        "plt.figure(figsize = (10,6))\n",
        "sns.scatterplot(airbnb_df, x='longitude', y='latitude', hue= 'room_type', color='deep')\n",
        "plt.title(\"Latitude vs. Longitude of Listings\")\n",
        "plt.xlabel(\"Longitude\")\n",
        "plt.ylabel(\"Latitude\")\n",
        "plt.show()"
      ],
      "metadata": {
        "id": "TdPTWpAVphqO"
      },
      "execution_count": null,
      "outputs": []
    },
    {
      "cell_type": "markdown",
      "source": [
        "##### 1. Why did you pick the specific chart?"
      ],
      "metadata": {
        "id": "jj7wYXLtphqO"
      }
    },
    {
      "cell_type": "markdown",
      "source": [
        "The scatter plot was chosen because it provides a clear visualization of the geographic distribution of Airbnb listings based on their longitude and latitude. This type of chart is ideal for showing spatial relationships, allowing us to see the clustering or spread of listings across different areas. The hue argument (colored by room type) adds an extra layer of information, helping us understand how different room types are distributed geographically. This can offer valuable insights for both customer preferences and business strategies."
      ],
      "metadata": {
        "id": "Ob8u6rCTphqO"
      }
    },
    {
      "cell_type": "markdown",
      "source": [
        "##### 2. What is/are the insight(s) found from the chart?"
      ],
      "metadata": {
        "id": "eZrbJ2SmphqO"
      }
    },
    {
      "cell_type": "markdown",
      "source": [
        "The scatter plot can reveal clusters of listings in specific regions (e.g., in city centers or tourist hotspots). These clusters might indicate high demand in those areas, while other regions may have sparse listings.\n",
        "There are large gaps or areas with few listings, it might signal regions where Airbnb has limited presence, presenting potential for expansion."
      ],
      "metadata": {
        "id": "mZtgC_hjphqO"
      }
    },
    {
      "cell_type": "markdown",
      "source": [
        "##### 3. Will the gained insights help creating a positive business impact?\n",
        "Are there any insights that lead to negative growth? Justify with specific reason."
      ],
      "metadata": {
        "id": "rFu4xreNphqO"
      }
    },
    {
      "cell_type": "markdown",
      "source": [
        "Yes, these insights can lead to positive business impacts.By identifying areas with high demand (i.e., clusters of listings) or under-served locations (i.e., gaps in listings), Airbnb can focus marketing efforts or expand its offerings into these regions.\n",
        "\n",
        "Yes, there could be insights that indicate potential for negative growth.If the chart reveals a large concentration of listings in specific high-demand areas (e.g., city centers), it could suggest market saturation. Overcrowding in popular locations might lead to increased competition between hosts, driving down prices and reducing profitability. This could negatively affect the business if hosts are unable to sustain competitive pricing or differentiate their offerings.And the chart shows some gaps in certain regions, especially in areas with growing tourism or residential development, Airbnb might be missing potential business opportunities. Not addressing these gaps could prevent the business leading to a loss in potential growth."
      ],
      "metadata": {
        "id": "ey_0qi68phqO"
      }
    },
    {
      "cell_type": "markdown",
      "source": [
        "#### Chart - 9"
      ],
      "metadata": {
        "id": "YJ55k-q6phqO"
      }
    },
    {
      "cell_type": "code",
      "source": [
        "# Chart - 9 visualization code\n",
        "airbnb_df['last_review'] = pd.to_datetime(airbnb_df['last_review'])\n",
        "airbnb_df['month'] = airbnb_df['last_review'].dt.month\n",
        "availability_by_month = airbnb_df.groupby('month')['availability_365'].mean()\n",
        "\n",
        "plt.figure(figsize = (10,6))\n",
        "sns.heatmap(availability_by_month.values.reshape(1,-1))\n",
        "plt.title(\"Listing Availability by Month\")\n",
        "plt.yticks([], [])\n",
        "plt.xticks(range(12), ['Jan', 'Feb', 'Mar', 'Apr', 'May', 'Jun', 'Jul', 'Aug', 'Sep', 'Oct', 'Nov', 'Dec'])\n",
        "plt.show()\n"
      ],
      "metadata": {
        "id": "B2aS4O1ophqO"
      },
      "execution_count": null,
      "outputs": []
    },
    {
      "cell_type": "markdown",
      "source": [
        "##### 1. Why did you pick the specific chart?"
      ],
      "metadata": {
        "id": "gCFgpxoyphqP"
      }
    },
    {
      "cell_type": "markdown",
      "source": [
        "The heatmap was chosen because it is an effective way to visually represent the variation in listing availability over the months of the year. The heatmap's color gradient allows for a quick understanding of the patterns, highlighting which months have higher or lower average availability of listings. By using a heatmap, we can clearly observe seasonal trends and fluctuations, which would be harder to interpret in a standard line or bar chart."
      ],
      "metadata": {
        "id": "TVxDimi2phqP"
      }
    },
    {
      "cell_type": "markdown",
      "source": [
        "##### 2. What is/are the insight(s) found from the chart?"
      ],
      "metadata": {
        "id": "OVtJsKN_phqQ"
      }
    },
    {
      "cell_type": "markdown",
      "source": [
        "The heatmap likely reveals clear seasonal patterns in listing availability. For example, we may see higher availability during certain months (e.g., in the off-season) and lower availability during peak months (e.g., summer or holiday periods).\n",
        "\n",
        "The heatmap may show specific months where listings are less available and  certain months show high availability, it might reflect the off-peak season when demand is lower."
      ],
      "metadata": {
        "id": "ngGi97qjphqQ"
      }
    },
    {
      "cell_type": "markdown",
      "source": [
        "##### 3. Will the gained insights help creating a positive business impact?\n",
        "Are there any insights that lead to negative growth? Justify with specific reason."
      ],
      "metadata": {
        "id": "lssrdh5qphqQ"
      }
    },
    {
      "cell_type": "markdown",
      "source": [
        "Yes, these insights can positively impact the business. Understanding months with lower availability can help Airbnb plan promotions or incentives for hosts to make their listings more available during slower months. This could also help boost bookings during off-peak seasons and maximizing revenue.\n",
        "\n",
        "Yes, there could be potential insights that indicate negative growth, depending on the patterns. A significant portion of listings show high availability during low-demand months, it could imply that Airbnb is over-relying on slower periods for bookings, which might not be sustainable for long-term growth. It may result in a lack of sufficient bookings and lower overall profitability during peak months."
      ],
      "metadata": {
        "id": "tBpY5ekJphqQ"
      }
    },
    {
      "cell_type": "markdown",
      "source": [
        "#### Chart - 10"
      ],
      "metadata": {
        "id": "U2RJ9gkRphqQ"
      }
    },
    {
      "cell_type": "code",
      "source": [
        "# Chart - 10 visualization code\n",
        "plt.figure(figsize = (10, 6))\n",
        "sns.histplot(airbnb_df['minimum_nights'], kde=True, color='green', bins= 30)\n",
        "plt.title(\"Minimum Nights Distribution\")\n",
        "plt.xlabel('Minimum Nights')\n",
        "plt.ylabel('Frequency')\n",
        "plt.show()"
      ],
      "metadata": {
        "id": "GM7a4YP4phqQ"
      },
      "execution_count": null,
      "outputs": []
    },
    {
      "cell_type": "markdown",
      "source": [
        "##### 1. Why did you pick the specific chart?"
      ],
      "metadata": {
        "id": "1M8mcRywphqQ"
      }
    },
    {
      "cell_type": "markdown",
      "source": [
        "The histogram with KDE (Kernel Density Estimate) was chosen because it effectively visualizes the distribution of a continuous variable, in this case, the minimum number of nights required for booking. The histogram allows us to see the frequency of different values (i.e., how many listings require a certain number of minimum nights), while the KDE provides a smoothed curve that shows the overall trend or distribution pattern. This combination of the histogram and KDE offers both the discrete count of listings and the general shape of the data, making it easier to identify patterns such as peaks, outliers, or skewness."
      ],
      "metadata": {
        "id": "8agQvks0phqQ"
      }
    },
    {
      "cell_type": "markdown",
      "source": [
        "##### 2. What is/are the insight(s) found from the chart?"
      ],
      "metadata": {
        "id": "tgIPom80phqQ"
      }
    },
    {
      "cell_type": "markdown",
      "source": [
        "The histogram will likely show that most listings require a low number of minimum nights (likely around 1 or 2), indicating that many hosts prefer to keep their listings flexible and accessible for short-term stays.\n",
        "The histogram is right-skewed, meaning that the majority of listings have low minimum nights, while a smaller proportion have much higher minimum night requirements. This suggests that short-term stays dominate."
      ],
      "metadata": {
        "id": "Qp13pnNzphqQ"
      }
    },
    {
      "cell_type": "markdown",
      "source": [
        "##### 3. Will the gained insights help creating a positive business impact?\n",
        "Are there any insights that lead to negative growth? Justify with specific reason."
      ],
      "metadata": {
        "id": "JMzcOPDDphqR"
      }
    },
    {
      "cell_type": "markdown",
      "source": [
        "Yes, the insights from this chart can guide strategies for growth because of insights into the distribution of minimum nights can help Airbnb suggest to hosts that they adjust their minimum night requirements for better occupancy, especially during peak seasons when travelers may be looking for short stays.\n",
        "\n",
        "Yes, there are insights that might signal potential negative growth. The data shows many listings requiring high minimum nights in areas with high tourist demand, it could limit bookings, especially in cities or regions where short-term travelers prefer flexible accommodation. For example, in cities where tourists typically stay for only a few days, listings with high minimum night requirements could reduce overall occupancy rates. This could decrease revenue for Airbnb hosts and the platform overall."
      ],
      "metadata": {
        "id": "R4Ka1PC2phqR"
      }
    },
    {
      "cell_type": "markdown",
      "source": [
        "#### Chart - 11"
      ],
      "metadata": {
        "id": "x-EpHcCOp1ci"
      }
    },
    {
      "cell_type": "code",
      "source": [
        "# Chart - 11 visualization code\n",
        "plt.figure(figsize = (10, 6))\n",
        "sns.boxplot(airbnb_df, x='neighbourhood_group', y='reviews_per_month', color='orange')\n",
        "plt.title('Reviews per Month by Neighbourhood Group')\n",
        "plt.xlabel(\"Neighbourhood Group\")\n",
        "plt.ylabel(\"Reviews per Month\")\n",
        "plt.show()"
      ],
      "metadata": {
        "id": "mAQTIvtqp1cj"
      },
      "execution_count": null,
      "outputs": []
    },
    {
      "cell_type": "markdown",
      "source": [
        "##### 1. Why did you pick the specific chart?"
      ],
      "metadata": {
        "id": "X_VqEhTip1ck"
      }
    },
    {
      "cell_type": "markdown",
      "source": [
        "The boxplot was chosen because it effectively shows the distribution of reviews per month across different neighborhood groups. It provides a clear view of the median, variability, and outliers (extremely high or low values), which helps compare how neighborhoods perform in terms of reviews."
      ],
      "metadata": {
        "id": "-vsMzt_np1ck"
      }
    },
    {
      "cell_type": "markdown",
      "source": [
        "##### 2. What is/are the insight(s) found from the chart?"
      ],
      "metadata": {
        "id": "8zGJKyg5p1ck"
      }
    },
    {
      "cell_type": "markdown",
      "source": [
        "The median line shows the typical number of reviews per month for each neighborhood group.\n",
        "\n",
        "The spread of the box indicates how much review numbers vary within each group. Points outside the whiskers represent listings with unusually high or low reviews.\n",
        "\n",
        " The boxplot allows comparison between different neighborhood groups in terms of reviews."
      ],
      "metadata": {
        "id": "ZYdMsrqVp1ck"
      }
    },
    {
      "cell_type": "markdown",
      "source": [
        "##### 3. Will the gained insights help creating a positive business impact?\n",
        "Are there any insights that lead to negative growth? Justify with specific reason."
      ],
      "metadata": {
        "id": "PVzmfK_Ep1ck"
      }
    },
    {
      "cell_type": "markdown",
      "source": [
        "Yes, the insights can help by:\n",
        "\n",
        "Targeting Popular Areas for marketing to boost bookings.\n",
        "Improving Low-Performing Areas through promotions and host guidance.\n",
        "Helping Hosts Adjust their strategies based on neighborhood performance to increase reviews.\n",
        "\n",
        "The insight can lead to negative growth by:\n",
        "\n",
        "Low Review Numbers in some areas could indicate weak demand, affecting overall growth.\n",
        "High Variability in reviews suggests inconsistency, potentially hurting Airbnb's reputation.\n",
        "Outliers with Low Reviews could point to underperforming listings, which may hinder business growth in those regions."
      ],
      "metadata": {
        "id": "druuKYZpp1ck"
      }
    },
    {
      "cell_type": "markdown",
      "source": [
        "#### Chart - 12"
      ],
      "metadata": {
        "id": "n3dbpmDWp1ck"
      }
    },
    {
      "cell_type": "code",
      "source": [
        "# Chart - 12 visualization code\n",
        "airbnb_df['last_review'] = pd.to_datetime(airbnb_df['last_review'])\n",
        "price_trend = airbnb_df.groupby('last_review')['price'].mean()\n",
        "plt.figure(figsize = (10, 6))\n",
        "price_trend.plot(kind = 'line', color = 'blue', linewidth = 2)\n",
        "plt.title('Average Price Trend Over Time')\n",
        "plt.xlabel('Date')\n",
        "plt.ylabel('Average Price')\n",
        "plt.xticks(rotation = 0)\n",
        "plt.show()"
      ],
      "metadata": {
        "id": "bwevp1tKp1ck"
      },
      "execution_count": null,
      "outputs": []
    },
    {
      "cell_type": "markdown",
      "source": [
        "##### 1. Why did you pick the specific chart?"
      ],
      "metadata": {
        "id": "ylSl6qgtp1ck"
      }
    },
    {
      "cell_type": "markdown",
      "source": [
        "The line chart was chosen because it effectively shows trends over time, which is ideal for analyzing the average price trend of Airbnb listings. By plotting the average price per day over time, the line chart clearly illustrates how the price has changed, helping to identify seasonal fluctuations, long-term trends, or irregular price behavior."
      ],
      "metadata": {
        "id": "m2xqNkiQp1ck"
      }
    },
    {
      "cell_type": "markdown",
      "source": [
        "##### 2. What is/are the insight(s) found from the chart?"
      ],
      "metadata": {
        "id": "ZWILFDl5p1ck"
      }
    },
    {
      "cell_type": "markdown",
      "source": [
        "Price Fluctuations: The line chart will reveal whether the average price of listings has increased or decreased over time.\n",
        "\n",
        "Seasonal Trends: The chart shows spikes or dips at certain times of the year, it could indicate seasonal price variations (e.g., higher prices during holidays or peak tourist seasons).\n",
        "\n",
        "Price Stability: The line is relatively smooth, it could suggest that prices have been stable over the observed period."
      ],
      "metadata": {
        "id": "x-lUsV2mp1ck"
      }
    },
    {
      "cell_type": "markdown",
      "source": [
        "##### 3. Will the gained insights help creating a positive business impact?\n",
        "Are there any insights that lead to negative growth? Justify with specific reason."
      ],
      "metadata": {
        "id": "M7G43BXep1ck"
      }
    },
    {
      "cell_type": "markdown",
      "source": [
        "Yes, the insights can create the positive business impact:\n",
        "\n",
        "Guide Pricing Strategies: Airbnb can use the trend to recommend price adjustments during peak and off-peak seasons, maximizing revenue.\n",
        "\n",
        "Market Predictions: Predicting price trends can help Airbnb and hosts anticipate demand and adjust pricing accordingly.\n",
        "\n",
        "Customer Targeting: Understanding price fluctuations helps Airbnb target specific customer segments, offering discounts or promotions during slower periods.\n",
        "\n",
        "\n",
        "Yes, insights that could lead to negative growth include:\n",
        "\n",
        "Rising Prices: If prices are consistently increasing, it could price out some customers, especially during periods of high competition. This could reduce bookings and hurt Airbnb’s market share.\n",
        "\n",
        "Price Instability: Significant fluctuations in prices may lead to customer confusion or dissatisfaction, hurting long-term business growth."
      ],
      "metadata": {
        "id": "5wwDJXsLp1cl"
      }
    },
    {
      "cell_type": "markdown",
      "source": [
        "#### Chart - 13"
      ],
      "metadata": {
        "id": "Ag9LCva-p1cl"
      }
    },
    {
      "cell_type": "code",
      "source": [
        "# Chart - 13 visualization code\n",
        "reviews_trend = airbnb_df.groupby('last_review')['number_of_reviews'].sum()\n",
        "plt.figure(figsize = (10, 8))\n",
        "reviews_trend.plot(kind = 'line', color = 'red', linewidth = 2)\n",
        "plt.title('Number of Reviews Trend Over Time')\n",
        "plt.xlabel('Date')\n",
        "plt.ylabel('Number of Reviews')\n",
        "plt.grid(True)\n",
        "plt.xticks(rotation = 0)\n",
        "plt.show()"
      ],
      "metadata": {
        "id": "EUfxeq9-p1cl"
      },
      "execution_count": null,
      "outputs": []
    },
    {
      "cell_type": "markdown",
      "source": [
        "##### 1. Why did you pick the specific chart?"
      ],
      "metadata": {
        "id": "E6MkPsBcp1cl"
      }
    },
    {
      "cell_type": "markdown",
      "source": [
        "The line chart was chosen because it effectively shows trends over time. By plotting the number of reviews over time, the chart allows us to observe changes in customer engagement and identify patterns such as increases during certain months or years, helping to understand how the platform's activity evolves."
      ],
      "metadata": {
        "id": "V22bRsFWp1cl"
      }
    },
    {
      "cell_type": "markdown",
      "source": [
        "##### 2. What is/are the insight(s) found from the chart?"
      ],
      "metadata": {
        "id": "2cELzS2fp1cl"
      }
    },
    {
      "cell_type": "markdown",
      "source": [
        "Growth in Reviews: The line shows an upward slope, it indicates that the number of reviews is increasing, suggesting that more people are engaging with Airbnb over time.\n",
        "\n",
        "Seasonal Variations: Peaks in the graph may represent specific months in 2019 when more people are booking, such as during holidays or tourist seasons, while dips could point to quieter periods.\n",
        "\n",
        "Fluctuating Engagement: A steady rise or fall could show consistent customer activity, or it may highlight periods of stagnant growth or decline in reviews."
      ],
      "metadata": {
        "id": "ozQPc2_Ip1cl"
      }
    },
    {
      "cell_type": "markdown",
      "source": [
        "##### 3. Will the gained insights help creating a positive business impact?\n",
        "Are there any insights that lead to negative growth? Justify with specific reason."
      ],
      "metadata": {
        "id": "3MPXvC8up1cl"
      }
    },
    {
      "cell_type": "markdown",
      "source": [
        "es, the insights could have a positive impact by:\n",
        "\n",
        "Optimizing Marketing: Recognizing when reviews spike can help Airbnb time promotions or target customers during those high-activity periods.\n",
        "\n",
        "Encouraging More Reviews: A declining or stagnant review trend might prompt Airbnb to encourage hosts to engage guests for more reviews or implement strategies to boost activity.\n",
        "\n",
        "Better Forecasting: Understanding when reviews peak can help forecast future demand, ensuring resources and marketing are focused on the right times.\n",
        "\n",
        "\n",
        "Yes, negative trends could include:\n",
        "\n",
        "Decreasing Number of Reviews: A downward trend could indicate less user activity, possibly due to customer dissatisfaction or less frequent bookings. This could signal a potential slowdown in growth.\n",
        "\n",
        "Inconsistent Review Activity: Significant fluctuations in the graph, like sharp drops or irregular patterns, might indicate instability in user engagement, which can be harmful to long-term business growth."
      ],
      "metadata": {
        "id": "GL8l1tdLp1cl"
      }
    },
    {
      "cell_type": "markdown",
      "source": [
        "#### Chart - 14 - Correlation Heatmap"
      ],
      "metadata": {
        "id": "NC_X3p0fY2L0"
      }
    },
    {
      "cell_type": "code",
      "source": [
        "# Correlation Heatmap visualization code\n",
        "plt.figure(figsize = (10,6))\n",
        "correlation_matrix = airbnb_df.corr(numeric_only=True)\n",
        "sns.heatmap(correlation_matrix, cmap = 'coolwarm')\n",
        "plt.title(\"Correlation Heatmap\")\n",
        "plt.show()"
      ],
      "metadata": {
        "id": "xyC9zolEZNRQ"
      },
      "execution_count": null,
      "outputs": []
    },
    {
      "cell_type": "markdown",
      "source": [
        "##### 1. Why did you pick the specific chart?"
      ],
      "metadata": {
        "id": "UV0SzAkaZNRQ"
      }
    },
    {
      "cell_type": "markdown",
      "source": [
        "The correlation heatmap was chosen because it provides a clear and visual representation of the relationships between multiple numeric variables. It highlights positive or negative correlations between features in the dataset, helping to identify important patterns and interactions. The heatmap is useful for quickly spotting which variables are strongly correlated with others, which can inform decisions."
      ],
      "metadata": {
        "id": "DVPuT8LYZNRQ"
      }
    },
    {
      "cell_type": "markdown",
      "source": [
        "##### 2. What is/are the insight(s) found from the chart?"
      ],
      "metadata": {
        "id": "YPEH6qLeZNRQ"
      }
    },
    {
      "cell_type": "markdown",
      "source": [
        "Insights found from the chart are:\n",
        "\n",
        "Positive correlation: Certain variables show a strong positive correlation (e.g., price and number_of_reviews), it indicates that as one variable increases, the other also tends to increase.\n",
        "\n",
        "Negative correlation: A negative correlation (e.g., availability_365 and price) could suggest that as one variable increases, the other decreases. For example, a higher availability might lead to lower prices due to lower demand.\n",
        "\n",
        "No correlation: Variables with a correlation close to zero may not have a significant relationship with each other."
      ],
      "metadata": {
        "id": "bfSqtnDqZNRR"
      }
    },
    {
      "cell_type": "markdown",
      "source": [
        "#### Chart - 15 - Pair Plot"
      ],
      "metadata": {
        "id": "q29F0dvdveiT"
      }
    },
    {
      "cell_type": "code",
      "source": [
        "# Pair Plot visualization code\n",
        "plt.figure(figsize = (12, 8))\n",
        "sns.pairplot(airbnb_df[['price', 'minimum_nights','number_of_reviews', 'room_type']], hue = 'room_type', palette = 'dark')\n",
        "plt.title(\"Pair Plot: Price, Minimum Nights, and Number of reviews\")\n",
        "plt.show()"
      ],
      "metadata": {
        "id": "o58-TEIhveiU"
      },
      "execution_count": null,
      "outputs": []
    },
    {
      "cell_type": "markdown",
      "source": [
        "##### 1. Why did you pick the specific chart?"
      ],
      "metadata": {
        "id": "EXh0U9oCveiU"
      }
    },
    {
      "cell_type": "markdown",
      "source": [
        "The pairplot was chosen because it allows us to explore the relationships between multiple variables in a single view. It shows pairwise relationships between selected features (e.g., price, minimum_nights, number_of_reviews, and room_type) and provides insights into how these variables interact with each other. By using color for room type, the chart also helps to visually distinguish the distribution of each room type across different features."
      ],
      "metadata": {
        "id": "eMmPjTByveiU"
      }
    },
    {
      "cell_type": "markdown",
      "source": [
        "##### 2. What is/are the insight(s) found from the chart?"
      ],
      "metadata": {
        "id": "22aHeOlLveiV"
      }
    },
    {
      "cell_type": "markdown",
      "source": [
        "Insights found from the chart are:\n",
        "\n",
        "Price vs. Number of Reviews: The plot might show that listings with more reviews tend to have higher prices, suggesting that popular listings with positive customer feedback command higher rates.\n",
        "\n",
        "Price vs. Minimum Nights: We may observe that listings with a higher price could have a higher minimum nights requirement, especially for premium or luxury listings.\n",
        "\n",
        "Room Type Distribution: Different room types may cluster differently in terms of price and minimum nights, allowing for insights into how room type influences pricing or stay requirements.\n",
        "\n",
        "Trends by Room Type: By observing how the points for each room type are distributed across the axes, we can infer if certain room types (like entire homes or shared rooms) tend to have higher prices or fewer minimum nights."
      ],
      "metadata": {
        "id": "uPQ8RGwHveiV"
      }
    },
    {
      "cell_type": "markdown",
      "source": [
        "## **5. Solution to Business Objective**"
      ],
      "metadata": {
        "id": "JcMwzZxoAimU"
      }
    },
    {
      "cell_type": "markdown",
      "source": [
        "#### What do you suggest the client to achieve Business Objective ?\n",
        "Explain Briefly."
      ],
      "metadata": {
        "id": "8G2x9gOozGDZ"
      }
    },
    {
      "cell_type": "markdown",
      "source": [
        "To help the client achieve the business objective of analyzing and extracting actionable insights from the Airbnb listings in New York City, here are several tailored recommendations that can assist stakeholders (including Airbnb hosts, property managers, investors, and Airbnb itself) in making informed decisions to enhance performance, optimize pricing strategies, and improve user experience:\n",
        "\n",
        "1. Optimize Pricing Strategies for Airbnb Host.\n",
        "\n",
        "2. Enhance User Experience for Guests.\n",
        "\n",
        "3. Improve Visibility for Hosts and Listings.\n",
        "\n",
        "4. Boost Marketing Strategies for Airbnb Hosts.\n",
        "\n",
        "5. Monitor and Improve Performance Metrics.\n",
        "\n",
        "6. Utilize Reviews and Feedback to Drive Continuous Improvement."
      ],
      "metadata": {
        "id": "pASKb0qOza21"
      }
    },
    {
      "cell_type": "markdown",
      "source": [
        "# **Conclusion**"
      ],
      "metadata": {
        "id": "gCX9965dhzqZ"
      }
    },
    {
      "cell_type": "markdown",
      "source": [
        "In conclusion, the exploratory data analysis of the Airbnb NYC dataset provided important insights into the pricing, popularity, and availability of Airbnb listings in New York City. The findings demonstrated that factors such as room type, location, reviews, and seasonality play significant roles in determining the prices and availability of listings. This analysis serves as a foundation for further investigations, such as predictive modeling to forecast pricing trends or optimize Airbnb listings. The project showcases the value of data wrangling and visualization in understanding complex datasets and extracting actionable insights."
      ],
      "metadata": {
        "id": "Fjb1IsQkh3yE"
      }
    },
    {
      "cell_type": "markdown",
      "source": [
        "### ***Hurrah! You have successfully completed your EDA Capstone Project !!!***"
      ],
      "metadata": {
        "id": "gIfDvo9L0UH2"
      }
    }
  ]
}